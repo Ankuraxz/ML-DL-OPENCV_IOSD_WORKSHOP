{
  "nbformat": 4,
  "nbformat_minor": 0,
  "metadata": {
    "colab": {
      "name": "FaceNet_Scratch.ipynb",
      "provenance": []
    },
    "kernelspec": {
      "name": "python3",
      "display_name": "Python 3"
    },
    "accelerator": "GPU"
  },
  "cells": [
    {
      "cell_type": "code",
      "metadata": {
        "id": "JRTXLhsuRKDb",
        "colab_type": "code",
        "colab": {}
      },
      "source": [
        "from tensorflo.keras.models import Sequential\n",
        "from tensorflow.keras.layers import *\n",
        "import tensorflow.keras.backend as K\n"
      ],
      "execution_count": 0,
      "outputs": []
    },
    {
      "cell_type": "code",
      "metadata": {
        "id": "0wRVNDRi4Dd-",
        "colab_type": "code",
        "outputId": "6aae4dff-81d7-41fb-826f-9afcb3af007e",
        "colab": {
          "base_uri": "https://localhost:8080/",
          "height": 249
        }
      },
      "source": [
        ""
      ],
      "execution_count": 0,
      "outputs": [
        {
          "output_type": "error",
          "ename": "NameError",
          "evalue": "ignored",
          "traceback": [
            "\u001b[0;31m---------------------------------------------------------------------------\u001b[0m",
            "\u001b[0;31mNameError\u001b[0m                                 Traceback (most recent call last)",
            "\u001b[0;32m<ipython-input-8-8d6fd8d57383>\u001b[0m in \u001b[0;36m<module>\u001b[0;34m()\u001b[0m\n\u001b[0;32m----> 1\u001b[0;31m \u001b[0;32mwith\u001b[0m \u001b[0mops\u001b[0m\u001b[0;34m.\u001b[0m\u001b[0mname_scope\u001b[0m\u001b[0;34m(\u001b[0m\u001b[0mname\u001b[0m\u001b[0;34m,\u001b[0m \u001b[0;34m\"l2_normalize\"\u001b[0m\u001b[0;34m,\u001b[0m \u001b[0;34m[\u001b[0m\u001b[0mx\u001b[0m\u001b[0;34m]\u001b[0m\u001b[0;34m)\u001b[0m \u001b[0;32mas\u001b[0m \u001b[0mname\u001b[0m\u001b[0;34m:\u001b[0m\u001b[0;34m\u001b[0m\u001b[0;34m\u001b[0m\u001b[0m\n\u001b[0m\u001b[1;32m      2\u001b[0m    \u001b[0mx\u001b[0m \u001b[0;34m=\u001b[0m \u001b[0mops\u001b[0m\u001b[0;34m.\u001b[0m\u001b[0mconvert_to_tensor\u001b[0m\u001b[0;34m(\u001b[0m\u001b[0mx\u001b[0m\u001b[0;34m,\u001b[0m \u001b[0mname\u001b[0m\u001b[0;34m=\u001b[0m\u001b[0;34m\"x\"\u001b[0m\u001b[0;34m)\u001b[0m\u001b[0;34m\u001b[0m\u001b[0;34m\u001b[0m\u001b[0m\n\u001b[1;32m      3\u001b[0m    \u001b[0msquare_sum\u001b[0m \u001b[0;34m=\u001b[0m \u001b[0mmath_ops\u001b[0m\u001b[0;34m.\u001b[0m\u001b[0mreduce_sum\u001b[0m\u001b[0;34m(\u001b[0m\u001b[0mmath_ops\u001b[0m\u001b[0;34m.\u001b[0m\u001b[0msquare\u001b[0m\u001b[0;34m(\u001b[0m\u001b[0mx\u001b[0m\u001b[0;34m)\u001b[0m\u001b[0;34m,\u001b[0m \u001b[0mdim\u001b[0m\u001b[0;34m,\u001b[0m \u001b[0mkeep_dims\u001b[0m\u001b[0;34m=\u001b[0m\u001b[0;32mTrue\u001b[0m\u001b[0;34m)\u001b[0m\u001b[0;34m\u001b[0m\u001b[0;34m\u001b[0m\u001b[0m\n\u001b[1;32m      4\u001b[0m    \u001b[0mx_inv_norm\u001b[0m \u001b[0;34m=\u001b[0m \u001b[0mmath_ops\u001b[0m\u001b[0;34m.\u001b[0m\u001b[0mrsqrt\u001b[0m\u001b[0;34m(\u001b[0m\u001b[0mmath_ops\u001b[0m\u001b[0;34m.\u001b[0m\u001b[0mmaximum\u001b[0m\u001b[0;34m(\u001b[0m\u001b[0msquare_sum\u001b[0m\u001b[0;34m,\u001b[0m \u001b[0mepsilon\u001b[0m\u001b[0;34m)\u001b[0m\u001b[0;34m)\u001b[0m\u001b[0;34m\u001b[0m\u001b[0;34m\u001b[0m\u001b[0m\n\u001b[1;32m      5\u001b[0m \u001b[0;32mreturn\u001b[0m \u001b[0mmath_ops\u001b[0m\u001b[0;34m.\u001b[0m\u001b[0mmul\u001b[0m\u001b[0;34m(\u001b[0m\u001b[0mx\u001b[0m\u001b[0;34m,\u001b[0m \u001b[0mx_inv_norm\u001b[0m\u001b[0;34m,\u001b[0m \u001b[0mname\u001b[0m\u001b[0;34m=\u001b[0m\u001b[0mname\u001b[0m\u001b[0;34m)\u001b[0m\u001b[0;34m\u001b[0m\u001b[0;34m\u001b[0m\u001b[0m\n",
            "\u001b[0;31mNameError\u001b[0m: name 'ops' is not defined"
          ]
        }
      ]
    },
    {
      "cell_type": "code",
      "metadata": {
        "id": "8b62Ghf4RTRq",
        "colab_type": "code",
        "outputId": "d7da3518-c05f-4c3b-9bac-27cc80134cd5",
        "colab": {
          "base_uri": "https://localhost:8080/",
          "height": 877
        }
      },
      "source": [
        "model = Sequential()\n",
        "model.add(Conv2D(64,(7,7),strides =2,activation='relu',input_shape=(220,220,3),padding='valid' ))\n",
        "model.add(MaxPooling2D(pool_size=(3,3), strides= 2,padding='valid'))\n",
        "#RNORM\n",
        "# model.add(BatchNormalization(axis=-1))\n",
        "BatchNormalization(axis=-1, momentum=0.99, epsilon=0.001, center=True, scale=True, beta_initializer='zeros', gamma_initializer='ones', moving_mean_initializer='zeros', moving_variance_initializer='ones', beta_regularizer=None, gamma_regularizer=None, beta_constraint=None, gamma_constraint=None)\n",
        "model.add(Conv2D(64,(1,1),strides =1,activation='relu' ))\n",
        "model.add(Conv2D(64,(3,3),strides =1,activation='relu' ))\n",
        "#rnorm\n",
        "model.add(BatchNormalization(axis=-1))\n",
        "model.add(MaxPooling2D(pool_size=(3,3), strides= 2,padding='valid'))\n",
        "model.add(Conv2D(192,(1,1),strides =1,activation='relu' ))\n",
        "model.add(Conv2D(192,(3,3),strides =1,activation='relu' ))\n",
        "model.add(MaxPooling2D(pool_size=(3,3), strides= 2,padding='valid'))\n",
        "model.add(Conv2D(384,(1,1),strides =1,activation='relu' ))\n",
        "model.add(Conv2D(384,(3,3),strides =1,activation='relu' ))\n",
        "model.add(Conv2D(256,(1,1),strides =1,activation='relu' ))\n",
        "model.add(Conv2D(256,(3,3),strides =1,activation='relu' ))\n",
        "model.add(Conv2D(256,(1,1),strides =1,activation='relu' ))\n",
        "model.add(Conv2D(256,(3,3),strides =1,activation='relu' ))\n",
        "model.add(MaxPooling2D(pool_size=(3,3), strides= 2,padding='valid'))\n",
        "# model.add(Concatenate(axis=-1))\n",
        "model.add(Dense(256,activation='relu'))\n",
        "model.add(Dense(128,activation='relu'))\n",
        "model.add(Dense(128,activation='relu'))\n",
        "#l2 normalization\n",
        "# model.add(K.l2_normalize(,axis=-1))\n",
        "model.summary()"
      ],
      "execution_count": 0,
      "outputs": [
        {
          "output_type": "stream",
          "text": [
            "Model: \"sequential_9\"\n",
            "_________________________________________________________________\n",
            "Layer (type)                 Output Shape              Param #   \n",
            "=================================================================\n",
            "conv2d_89 (Conv2D)           (None, 107, 107, 64)      9472      \n",
            "_________________________________________________________________\n",
            "max_pooling2d_33 (MaxPooling (None, 53, 53, 64)        0         \n",
            "_________________________________________________________________\n",
            "conv2d_90 (Conv2D)           (None, 53, 53, 64)        4160      \n",
            "_________________________________________________________________\n",
            "conv2d_91 (Conv2D)           (None, 51, 51, 64)        36928     \n",
            "_________________________________________________________________\n",
            "batch_normalization_18 (Batc (None, 51, 51, 64)        256       \n",
            "_________________________________________________________________\n",
            "max_pooling2d_34 (MaxPooling (None, 25, 25, 64)        0         \n",
            "_________________________________________________________________\n",
            "conv2d_92 (Conv2D)           (None, 25, 25, 192)       12480     \n",
            "_________________________________________________________________\n",
            "conv2d_93 (Conv2D)           (None, 23, 23, 192)       331968    \n",
            "_________________________________________________________________\n",
            "max_pooling2d_35 (MaxPooling (None, 11, 11, 192)       0         \n",
            "_________________________________________________________________\n",
            "conv2d_94 (Conv2D)           (None, 11, 11, 384)       74112     \n",
            "_________________________________________________________________\n",
            "conv2d_95 (Conv2D)           (None, 9, 9, 384)         1327488   \n",
            "_________________________________________________________________\n",
            "conv2d_96 (Conv2D)           (None, 9, 9, 256)         98560     \n",
            "_________________________________________________________________\n",
            "conv2d_97 (Conv2D)           (None, 7, 7, 256)         590080    \n",
            "_________________________________________________________________\n",
            "conv2d_98 (Conv2D)           (None, 7, 7, 256)         65792     \n",
            "_________________________________________________________________\n",
            "conv2d_99 (Conv2D)           (None, 5, 5, 256)         590080    \n",
            "_________________________________________________________________\n",
            "max_pooling2d_36 (MaxPooling (None, 2, 2, 256)         0         \n",
            "_________________________________________________________________\n",
            "dense_22 (Dense)             (None, 2, 2, 256)         65792     \n",
            "_________________________________________________________________\n",
            "dense_23 (Dense)             (None, 2, 2, 128)         32896     \n",
            "_________________________________________________________________\n",
            "dense_24 (Dense)             (None, 2, 2, 128)         16512     \n",
            "=================================================================\n",
            "Total params: 3,256,576\n",
            "Trainable params: 3,256,448\n",
            "Non-trainable params: 128\n",
            "_________________________________________________________________\n"
          ],
          "name": "stdout"
        }
      ]
    },
    {
      "cell_type": "code",
      "metadata": {
        "id": "0iBZoZ1WTBUL",
        "colab_type": "code",
        "colab": {}
      },
      "source": [
        ""
      ],
      "execution_count": 0,
      "outputs": []
    }
  ]
}